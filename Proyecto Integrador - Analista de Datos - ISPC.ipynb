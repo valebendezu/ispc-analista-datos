{
 "cells": [
  {
   "cell_type": "markdown",
   "id": "e4783e10-f3c8-44fc-8002-b920e84fc22c",
   "metadata": {},
   "source": [
    "# Proyecto integrador para el Módulo de analista de Datos - ISPC\n",
    "### Grupo: *DataBring*\n",
    "#### N° Grupo: *5*\n",
    "#### Integrantes:\n",
    "- Bendezu, Ana Valentina\n",
    "- Blasiche, Andrés\n",
    "- Cabrera,Marcos Rodrigo\n",
    "- Palomeque, Dalila Macarena\n",
    "- Palomeque, Jonatan Manuel\n",
    "- Tejeda, Romina Soledad\n",
    "\n",
    "#### Módulo: Analista de datos (Estádistica y Exploración de datos, Ciencia de Datos y Procesamiento de Datos)\n",
    "#### Carrera: Tecnicatura Superior en Ciencia de datos e IA\n",
    "#### Institución: Instituto Superior Politécnico Córdoba (ISPC)\n",
    "#### Año: 2024"
   ]
  },
  {
   "cell_type": "markdown",
   "id": "ad517c7e-f6a6-499e-a9dd-0b8a7ba04d7e",
   "metadata": {},
   "source": [
    "## Descripción:\n"
   ]
  },
  {
   "cell_type": "markdown",
   "id": "c6647742-d6fc-4be3-8c5b-4b66f60e7d28",
   "metadata": {},
   "source": [
    "#### Importar Pandas:"
   ]
  },
  {
   "cell_type": "code",
   "execution_count": 1,
   "id": "312fb8ed-9510-4d4a-976c-1e3d2247a38b",
   "metadata": {},
   "outputs": [],
   "source": [
    "import pandas as pd\n",
    "import numpy as np\n",
    "import matplotlib.pyplot as plt"
   ]
  },
  {
   "cell_type": "markdown",
   "id": "b889c002-687a-4b16-9e18-610891fff57f",
   "metadata": {},
   "source": [
    "#### Cargar DataSet y crear el Dataframe:"
   ]
  },
  {
   "cell_type": "code",
   "execution_count": 2,
   "id": "a470f69a-20c6-47e9-bf87-b63e0c88fff8",
   "metadata": {},
   "outputs": [],
   "source": [
    "dataSet = pd.read_csv('Datos/ds_ventas.csv')\n",
    "\n",
    "dataframe = pd.DataFrame(dataSet)"
   ]
  },
  {
   "cell_type": "markdown",
   "id": "bf385cdf-df84-4e32-8b3b-06c7d433eefb",
   "metadata": {},
   "source": [
    "#### Imprimir los primeros  10 registros del dataframe:"
   ]
  },
  {
   "cell_type": "code",
   "execution_count": null,
   "id": "2e384c57-5d29-47d0-9740-6f0c17f4a811",
   "metadata": {
    "scrolled": true
   },
   "outputs": [],
   "source": [
    "print(dataframe.head(10))"
   ]
  },
  {
   "cell_type": "markdown",
   "id": "ade37f35-5a1d-4898-8ec2-661166554fa9",
   "metadata": {},
   "source": [
    "#### Descripcion del DataSet:"
   ]
  },
  {
   "cell_type": "markdown",
   "id": "4e0e2df7-1d63-4184-a296-8ed93c1f842a",
   "metadata": {},
   "source": [
    "Cantidad de registros y columnas:"
   ]
  },
  {
   "cell_type": "code",
   "execution_count": null,
   "id": "f37958c9-6025-4353-9616-455d9e90ce34",
   "metadata": {},
   "outputs": [],
   "source": [
    "cant_filas, cant_columnas = dataframe.shape"
   ]
  },
  {
   "cell_type": "code",
   "execution_count": null,
   "id": "46313ae4-7c6c-49c9-95c9-63dab665ef90",
   "metadata": {},
   "outputs": [],
   "source": [
    "print(f\"Cantidad de registros: {cant_filas}. Cantidad de columnas: {cant_columnas}\")"
   ]
  },
  {
   "cell_type": "markdown",
   "id": "28f2c8fb-4bbe-4f35-9357-494fabc2156b",
   "metadata": {},
   "source": [
    "Tipos de Datos:"
   ]
  },
  {
   "cell_type": "code",
   "execution_count": null,
   "id": "d0729719-05cc-4c86-b0c0-38e028d2bd72",
   "metadata": {},
   "outputs": [],
   "source": [
    "tipos_datos = dataframe.dtypes\n",
    "print(tipos_datos)"
   ]
  },
  {
   "cell_type": "markdown",
   "id": "96a0784c-34e8-40ec-b3df-f1fe701bc6c6",
   "metadata": {},
   "source": [
    "##### Cambiar columnas NUMERICAS (ventas, cantidad, utilidad_bruta y costos y utilidad_bruta_p ) a tipo flotante:\n",
    "- Un registro de esta columna, originalmente tiene la siguiente sintaxis: \"$155.040,02\" y necesito que queden de la siguiente forma: \"155040.02\" , para poder obtener las medidas de tendencias centrales (media, mediana).\n",
    "  \n",
    "- Para hacerlo, primero debo eliminar los signos \"$\", las \",\" y finalmente reemplazar los \".\" por \",\" Ya que sino, no puedo cambiar el tipo de dato."
   ]
  },
  {
   "cell_type": "markdown",
   "id": "3b394869-af65-408c-9ee3-648a5999a45f",
   "metadata": {},
   "source": [
    "Reemplazar los signos \"$\" de las columnas: ventas, , 'utilidad_bruta', 'costos'"
   ]
  },
  {
   "cell_type": "code",
   "execution_count": 3,
   "id": "5cbf214d-5b45-444e-8a4d-5262d24a0593",
   "metadata": {},
   "outputs": [],
   "source": [
    "dataframe['ventas'] = dataframe['ventas'].str.replace('$', '')\n",
    "dataframe['utilidad_bruta'] = dataframe['utilidad_bruta'].str.replace('$', '')\n",
    "dataframe['costos'] = dataframe['costos'].str.replace('$', '')"
   ]
  },
  {
   "cell_type": "markdown",
   "id": "e201c7f4-025b-408f-b87d-5a4e6b8f3c51",
   "metadata": {},
   "source": [
    "Reemplazar los signos \".\" de las columnas:ventas, , 'utilidad_bruta', 'costos' y 'cantidad'"
   ]
  },
  {
   "cell_type": "code",
   "execution_count": 4,
   "id": "181c9f19-203a-43f5-a287-dab11085e126",
   "metadata": {},
   "outputs": [],
   "source": [
    "dataframe['ventas'] = dataframe['ventas'].str.replace('.', '')\n",
    "dataframe['utilidad_bruta'] = dataframe['utilidad_bruta'].str.replace('.', '')\n",
    "dataframe['costos'] = dataframe['costos'].str.replace('.', '')\n",
    "dataframe['cantidad'] = dataframe['cantidad'].str.replace('.', '')"
   ]
  },
  {
   "cell_type": "markdown",
   "id": "60cc3d31-f32c-4e23-a402-508c59432ccb",
   "metadata": {},
   "source": [
    "Reemplazar los signos \",\" por \".\" de las columnas:ventas, , 'utilidad_bruta', 'costos' y 'cantidad'"
   ]
  },
  {
   "cell_type": "code",
   "execution_count": 5,
   "id": "3fa29793-598c-4a18-bec7-8f8c066ae01f",
   "metadata": {},
   "outputs": [],
   "source": [
    "dataframe['ventas'] = dataframe['ventas'].str.replace(',', '.')\n",
    "dataframe['utilidad_bruta'] = dataframe['utilidad_bruta'].str.replace(',', '.')\n",
    "dataframe['costos'] = dataframe['costos'].str.replace(',', '.')\n",
    "dataframe['cantidad'] = dataframe['cantidad'].str.replace(',', '.')"
   ]
  },
  {
   "cell_type": "markdown",
   "id": "385b5fb2-63e5-465b-9180-e17fdefa75d6",
   "metadata": {},
   "source": [
    "Reemplazar los signos \"%\" por \"\" y \".\" por \",\" de la columna \"utilidad_bruta_p\""
   ]
  },
  {
   "cell_type": "code",
   "execution_count": 6,
   "id": "dad695c6-021f-4b26-8588-8572777e1bde",
   "metadata": {},
   "outputs": [],
   "source": [
    "dataframe['utilidad_bruta_p'] = dataframe['utilidad_bruta_p'].str.replace('%','')\n",
    "dataframe['utilidad_bruta_p'] = dataframe['utilidad_bruta_p'].str.replace(',','.')"
   ]
  },
  {
   "cell_type": "markdown",
   "id": "793500d4-899b-4083-89fb-a4929fce54c7",
   "metadata": {},
   "source": [
    "Reemplazar '.00'  y '.0' por '' en la columna 'cantidad' para poder pasarla a int"
   ]
  },
  {
   "cell_type": "code",
   "execution_count": 7,
   "id": "5fdbaa0b-a9d6-4a72-bf20-b8310751c51d",
   "metadata": {},
   "outputs": [],
   "source": [
    "dataframe['cantidad'] = dataframe['cantidad'].str.replace('.00', '')\n",
    "dataframe['cantidad'] = dataframe['cantidad'].str.replace('.0', '')"
   ]
  },
  {
   "cell_type": "markdown",
   "id": "967e3b34-d97b-40d6-bc02-e63389caebfb",
   "metadata": {},
   "source": [
    "Ahora si, puedo convertir cambiar el tipo de dato:"
   ]
  },
  {
   "cell_type": "code",
   "execution_count": 8,
   "id": "6c6eabf4-8107-45ef-8ed8-ab4a0ec7deea",
   "metadata": {},
   "outputs": [],
   "source": [
    "dataframe[['ventas', 'utilidad_bruta', 'costos', 'utilidad_bruta_p']] = dataframe[['ventas', 'utilidad_bruta', 'costos', 'utilidad_bruta_p']].astype(float)\n",
    "dataframe['cantidad'] = dataframe['cantidad'].astype(int)"
   ]
  },
  {
   "cell_type": "markdown",
   "id": "115032b0-2dba-4a3f-8e81-656cda701490",
   "metadata": {},
   "source": [
    "##### Cambiar columna 'cantidad' a tipo int64:"
   ]
  },
  {
   "cell_type": "code",
   "execution_count": 9,
   "id": "5716fe4d-8f14-4866-bd53-f191966efd47",
   "metadata": {},
   "outputs": [
    {
     "name": "stdout",
     "output_type": "stream",
     "text": [
      "pais                 object\n",
      "metodo_orden         object\n",
      "tipo_comercio        object\n",
      "linea                object\n",
      "tipo_producto        object\n",
      "producto             object\n",
      "año                   int64\n",
      "cuatrimestre         object\n",
      "ventas              float64\n",
      "cantidad              int64\n",
      "utilidad_bruta_p    float64\n",
      "utilidad_bruta      float64\n",
      "costos              float64\n",
      "dtype: object\n"
     ]
    }
   ],
   "source": [
    "tipos_datos = dataframe.dtypes\n",
    "print(tipos_datos)"
   ]
  },
  {
   "cell_type": "markdown",
   "id": "ed3daa48-a467-4b71-9c3d-4641fe187e3f",
   "metadata": {},
   "source": [
    "#### Eliminar filas con datos vacios:"
   ]
  },
  {
   "cell_type": "code",
   "execution_count": 10,
   "id": "d1090bd4-5e34-4fef-bc0d-318197f1d105",
   "metadata": {},
   "outputs": [],
   "source": [
    "nuevo_df = dataframe.dropna()"
   ]
  },
  {
   "cell_type": "code",
   "execution_count": 11,
   "id": "9ccec9c2-a968-4d57-a8e9-734e748206d9",
   "metadata": {},
   "outputs": [],
   "source": [
    "ncant_filas, ncant_columnas = nuevo_df.shape\n"
   ]
  },
  {
   "cell_type": "code",
   "execution_count": null,
   "id": "e3abb14f-e988-4377-b0dc-e7820a6073ea",
   "metadata": {},
   "outputs": [],
   "source": [
    "print(f\"Cantidad de registros: {ncant_filas}. Cantidad de columnas: {ncant_columnas}\")"
   ]
  },
  {
   "cell_type": "markdown",
   "id": "285d6548-788d-45b6-b044-1d9eeaecaea4",
   "metadata": {},
   "source": [
    "#### Análisis de columnas:"
   ]
  },
  {
   "cell_type": "markdown",
   "id": "9e987b7a-3660-41ae-aa41-29fc4b564494",
   "metadata": {},
   "source": [
    "1- Columnas Numericas:"
   ]
  },
  {
   "cell_type": "markdown",
   "id": "e1c8fabd-4c0f-4d74-b3a9-ee96cf1c641c",
   "metadata": {},
   "source": [
    "Media:"
   ]
  },
  {
   "cell_type": "code",
   "execution_count": null,
   "id": "44577692-2c95-41f4-8ab0-46f0cbbfa51b",
   "metadata": {},
   "outputs": [],
   "source": [
    "# media de Ventas:\n",
    "media_ventas = nuevo_df['ventas'].mean()\n",
    "\n",
    "# media de Cantidad de productos:\n",
    "media_cant_productos = nuevo_df['cantidad'].mean()\n",
    "\n",
    "# media de Utilidad Bruta:\n",
    "media_utilidad_bruta = nuevo_df['utilidad_bruta'].mean()\n",
    "\n",
    "# media de costos:\n",
    "media_costos =  nuevo_df['costos'].mean()\n",
    "\n",
    "\n",
    "print(f\"La media de ventas es: ${media_ventas}, La media de la cantidad de productos es: {media_cant_productos}, La media de utilidades brutas es: ${media_utilidad_bruta}, La media de costos es: ${media_costos}\")"
   ]
  },
  {
   "cell_type": "markdown",
   "id": "1c17872a-ee56-48bd-b151-80d7508fd581",
   "metadata": {},
   "source": [
    "Mediana:"
   ]
  },
  {
   "cell_type": "code",
   "execution_count": null,
   "id": "e77ea792-658b-41e9-a051-55dd52dd88d5",
   "metadata": {},
   "outputs": [],
   "source": [
    "# mediana de Ventas:\n",
    "mediana_ventas = nuevo_df['ventas'].median()\n",
    "\n",
    "# mediana de Cantidad de productos:\n",
    "mediana_cant_productos = nuevo_df['cantidad'].median()\n",
    "\n",
    "# mediana de Utilidad Bruta:\n",
    "mediana_utilidad_bruta = nuevo_df['utilidad_bruta'].median()\n",
    "\n",
    "# mediana de costos:\n",
    "mediana_costos =  nuevo_df['costos'].median()\n",
    "\n",
    "\n",
    "print(f\"La mediana de ventas es: ${mediana_ventas}, La mediana de la cantidad de productos es: {mediana_cant_productos}, La mediana de utilidades brutas es: ${mediana_utilidad_bruta}, La mediana de costos es: ${mediana_costos}\")"
   ]
  },
  {
   "cell_type": "markdown",
   "id": "552e8052-7d2e-4169-88b5-84d58a1943c3",
   "metadata": {},
   "source": [
    "Desviacion Estandar:"
   ]
  },
  {
   "cell_type": "code",
   "execution_count": null,
   "id": "08517d1d-96c2-41a4-97a9-215342c0a075",
   "metadata": {},
   "outputs": [],
   "source": [
    "# Desviacion estándar en ventas:\n",
    "desviacion_ventas = nuevo_df['ventas'].std()\n",
    "\n",
    "#Desviación estándar de Cantidad de Productos:\n",
    "desviacion_cant_productos = nuevo_df['cantidad'].std()\n",
    "\n",
    "#Desviación estándar de utilidad bruta:\n",
    "desviacion_utilidad_bruta = nuevo_df['utilidad_bruta'].std()\n",
    "\n",
    "#Desviacion estándar de costos:\n",
    "desviacion_costos = nuevo_df['costos'].std()\n",
    "\n",
    "print(\"\"\"\n",
    "La desviación stándar de ventas es: ${}\\n\n",
    "La Desviación estándar de cantidad de productos es: {}\\n\n",
    "La desviación estándar de utilidad bruta es: {}\\n\n",
    "La desviacion estandar de costos es: {}\"\"\".format(desviacion_ventas,desviacion_cant_productos,desviacion_utilidad_bruta,desviacion_costos))"
   ]
  },
  {
   "cell_type": "markdown",
   "id": "027a0ae2",
   "metadata": {},
   "source": [
    "#### Se ordena el dataset por nombre de pais, fecha y cuatrimestre"
   ]
  },
  {
   "cell_type": "code",
   "execution_count": 12,
   "id": "1061bf4b",
   "metadata": {},
   "outputs": [],
   "source": [
    "df_sort = nuevo_df.sort_values(by=['pais', 'año', 'cuatrimestre'])"
   ]
  },
  {
   "cell_type": "markdown",
   "id": "3a1c1499",
   "metadata": {},
   "source": [
    "#### Datos para gráfico de barras de utilidad bruta anual de cada país"
   ]
  },
  {
   "cell_type": "code",
   "execution_count": null,
   "id": "f85cd543",
   "metadata": {},
   "outputs": [],
   "source": [
    "df_2019 = df_sort[df_sort[\"año\"] == 2019]\n",
    "df_2020 = df_sort[df_sort[\"año\"] == 2020]\n",
    "df_2021 = df_sort[df_sort[\"año\"] == 2021]\n",
    "\n",
    "util_2019 = df_2019.groupby([\"pais\", \"año\"])[\"utilidad_bruta\"].sum()\n",
    "util_2020 = df_2020.groupby([\"pais\", \"año\"])[\"utilidad_bruta\"].sum()\n",
    "util_2021 = df_2021.groupby([\"pais\", \"año\"])[\"utilidad_bruta\"].sum()\n",
    "print(f'Utilidades brutas por pais en 2019\\n {util_2019}\\n\\n',\n",
    "    f'Utilidades brutas por pais en 2020\\n {util_2020}\\n\\n',\n",
    "    f'Utilidades brutas por pais en 2019\\n {util_2019}')"
   ]
  },
  {
   "cell_type": "code",
   "execution_count": null,
   "id": "af53ee45",
   "metadata": {
    "scrolled": true
   },
   "outputs": [],
   "source": [
    "fig, axs = plt.subplots(1, 3, figsize=(18, 6))\n",
    "\n",
    "axs[0].bar(df_2019['pais'], df_2019['utilidad_bruta'])\n",
    "axs[0].set_title('Utilidades Brutas por País')\n",
    "axs[0].set_xlabel('País')\n",
    "axs[0].set_ylabel('Utilidad Bruta')\n",
    "axs[0].tick_params(axis='x', rotation=90)\n",
    "axs[0].grid(True)\n",
    "\n",
    "axs[1].bar(df_2020['pais'], df_2020['utilidad_bruta'])\n",
    "axs[1].set_title('Utilidades Brutas por País')\n",
    "axs[1].set_xlabel('País')\n",
    "axs[1].set_ylabel('Utilidad Bruta')\n",
    "axs[1].tick_params(axis='x', rotation=90)\n",
    "axs[1].grid(True)\n",
    "\n",
    "axs[2].bar(df_2021['pais'], df_2021['utilidad_bruta'])\n",
    "axs[2].set_title('Utilidades Brutas por País')\n",
    "axs[2].set_xlabel('País')\n",
    "axs[2].set_ylabel('Utilidad Bruta')\n",
    "axs[2].tick_params(axis='x', rotation=90)\n",
    "axs[2].grid(True)"
   ]
  },
  {
   "cell_type": "markdown",
   "id": "b8d7783f",
   "metadata": {},
   "source": [
    "#### Grafico de barras teniendo en cuenta las ventas por variable categorica 'Pais'"
   ]
  },
  {
   "cell_type": "code",
   "execution_count": null,
   "id": "7640b5dc",
   "metadata": {},
   "outputs": [],
   "source": [
    "plt.figure(figsize = (20,12))\n",
    "plt.bar(Ventas_por_Pais['pais'], Ventas_por_Pais['cantidad'], color = 'orange')\n",
    "\n",
    "plt.xlabel('País')\n",
    "plt.ylabel('Cantidad Vendida')\n",
    "plt.title('Cantidad vendida por País')\n",
    "plt.xticks(rotation = 45, ha = 'right') # aca rotamos las etiquetas del eje x\n",
    "plt.tight_layout() # esto ajusta el grafico para q no se interpongan los elementos\n",
    "plt.show()"
   ]
  },
  {
   "cell_type": "markdown",
   "id": "f08f8f77",
   "metadata": {},
   "source": [
    "#### Grafico de dispersión de utilidades por país"
   ]
  },
  {
   "cell_type": "code",
   "execution_count": null,
   "id": "96e94833",
   "metadata": {},
   "outputs": [],
   "source": [
    "plt.figure(figsize=(10, 6))\n",
    "plt.scatter(df_sort['pais'], df_sort['utilidad_bruta'], marker = \"^\", c = \"green\")\n",
    "plt.title('Dispersión de Utilidades Brutas por País')\n",
    "plt.xlabel('País')\n",
    "plt.ylabel('Utilidad Bruta')\n",
    "plt.xticks(rotation=90)  # Rotar las etiquetas de los países para mejor legibilidad\n",
    "plt.grid(True)\n",
    "plt.show()"
   ]
  },
  {
   "cell_type": "markdown",
   "id": "08d538a9",
   "metadata": {},
   "source": [
    "#### Gráfico  por país"
   ]
  },
  {
   "cell_type": "code",
   "execution_count": null,
   "id": "207156f7",
   "metadata": {},
   "outputs": [],
   "source": [
    "plt.figure(figsize=(12, 8))\n",
    "df_2019.boxplot(column='utilidad_bruta', by='pais', grid=True, rot=90, vert=True, patch_artist=True)\n",
    "plt.title('Boxplot de Utilidades Brutas por País')\n",
    "plt.suptitle('')\n",
    "plt.xlabel('País')\n",
    "plt.ylabel('Utilidad Bruta')\n",
    "plt.show()"
   ]
  },
  {
   "cell_type": "code",
   "execution_count": 13,
   "id": "a5ab8a67",
   "metadata": {},
   "outputs": [],
   "source": [
    "df_sort_TC = df_sort.sort_values(by=['tipo_comercio'])"
   ]
  },
  {
   "cell_type": "code",
   "execution_count": null,
   "id": "e7f7f090",
   "metadata": {},
   "outputs": [],
   "source": [
    "plt.figure(figsize=(10, 6))\n",
    "plt.pie(df_sort_TC['utilidad_bruta'], labels=df_sort_TC['tipo_comercio'], autopct='%1.1f%%', startangle=140)\n",
    "plt.title('Distribución de Utilidades Brutas por Tipo de Comercio')\n",
    "plt.axis('equal')  # Igualar el aspecto del eje para que el gráfico de torta sea circular\n",
    "plt.show()"
   ]
  },
  {
   "cell_type": "code",
   "execution_count": null,
   "id": "8efb5454",
   "metadata": {},
   "outputs": [],
   "source": [
    "df_sort.value_counts(\"pais\")"
   ]
  },
  {
   "cell_type": "markdown",
   "id": "2b4e322a",
   "metadata": {},
   "source": [
    "# Export"
   ]
  },
  {
   "cell_type": "code",
   "execution_count": null,
   "id": "ed7e640e",
   "metadata": {},
   "outputs": [],
   "source": [
    "df_sort.to_csv(\"Datos/ord_pais.csv\")"
   ]
  },
  {
   "cell_type": "markdown",
   "id": "91909263",
   "metadata": {},
   "source": [
    "### Insertamos errores para poder cumplir con la consigna\n",
    "#### Trabajo el dataset con errores y proponemos soluciones"
   ]
  },
  {
   "cell_type": "code",
   "execution_count": null,
   "id": "11afd31b",
   "metadata": {},
   "outputs": [],
   "source": [
    "ddf = pd.read_csv(\"Datos/dirty_ds_ventas.csv\")"
   ]
  },
  {
   "cell_type": "markdown",
   "id": "f03d47db",
   "metadata": {},
   "source": [
    "#### Como el data set es muy extenso primero vamos a filtrar los valores Nan por cada fila:"
   ]
  },
  {
   "cell_type": "code",
   "execution_count": null,
   "id": "e83b856d",
   "metadata": {},
   "outputs": [],
   "source": [
    "filas_con_nan = ddf[ddf.isna().any(axis = 1)]\n",
    "filas_con_nan"
   ]
  },
  {
   "cell_type": "markdown",
   "id": "18143b3a",
   "metadata": {},
   "source": [
    "#### Si queremos ver todas las filas en jupyter notebook debemos configurar pandas:"
   ]
  },
  {
   "cell_type": "code",
   "execution_count": null,
   "id": "d256e6b1",
   "metadata": {},
   "outputs": [],
   "source": [
    "#pd.set_option('display.max_rows',None)"
   ]
  },
  {
   "cell_type": "markdown",
   "id": "c6b29fc8",
   "metadata": {},
   "source": [
    "#### En el contexto de nuestros datos y la cantidad que tenemos, decidimos eliminar los registros que contienen datos 'Nan' ya que la ausencia de estos hace que la trazabilidad de cualquier registro sea muy dificil y al momento de realizar medidas descriptivas podrían distorcionar los datos de manera grosera. ademas de eso 65/12000 registros nos da 0,0054. es decir ni 1% de los datos afectados"
   ]
  },
  {
   "cell_type": "code",
   "execution_count": null,
   "id": "cc330fc0",
   "metadata": {},
   "outputs": [],
   "source": [
    "df1 = df.dropna()\n",
    "df1"
   ]
  },
  {
   "cell_type": "code",
   "execution_count": null,
   "id": "4c5aec0c",
   "metadata": {},
   "outputs": [],
   "source": [
    "filas_con_nan = df1[df1.isna().any(axis = 1)]\n",
    "filas_con_nan"
   ]
  },
  {
   "cell_type": "markdown",
   "id": "46bd95a1",
   "metadata": {},
   "source": [
    "#### También observamos que la columna [serie] año esta como tipo de dato flotante y deberia ser entero, por lo tanto lo pasamos a Nro entero:"
   ]
  },
  {
   "cell_type": "code",
   "execution_count": null,
   "id": "2434a3bd",
   "metadata": {},
   "outputs": [],
   "source": [
    "df1.loc[:,'año'] = df1['año'].astype(int)   # todas las filas, columna 'año' parsearlo a int\n",
    "df1"
   ]
  },
  {
   "cell_type": "markdown",
   "id": "a2d89593",
   "metadata": {},
   "source": [
    "#### Veamos si en nuestro Data Set hay duplicados:"
   ]
  },
  {
   "cell_type": "code",
   "execution_count": null,
   "id": "87948aaa",
   "metadata": {},
   "outputs": [],
   "source": [
    "df.duplicated()"
   ]
  },
  {
   "cell_type": "markdown",
   "id": "1cff39af",
   "metadata": {},
   "source": [
    "#### como vemos si hay filas duplicadas, vamos a mostrarlas:"
   ]
  },
  {
   "cell_type": "code",
   "execution_count": null,
   "id": "82e6e3e8",
   "metadata": {},
   "outputs": [],
   "source": [
    "filas_duplicadas = df1[df.duplicated(keep = False)] # con el parametro keep = False mostramos las filas duplicadas manteniendolas\n",
    "print(filas_duplicadas)"
   ]
  },
  {
   "cell_type": "code",
   "execution_count": null,
   "id": "834c9128",
   "metadata": {},
   "outputs": [],
   "source": [
    "filas_duplicadas = df1.duplicated().sum()\n",
    "print(filas_duplicadas)"
   ]
  },
  {
   "cell_type": "markdown",
   "id": "b6f3fb73",
   "metadata": {},
   "source": [
    "#### Hay 14 filas que se duplican, claro esta que estas aportan redundancia que no queremos. entonces las eliminamos."
   ]
  },
  {
   "cell_type": "code",
   "execution_count": null,
   "id": "17852099",
   "metadata": {},
   "outputs": [],
   "source": [
    "df1.drop_duplicates(inplace = True)\n",
    "df1"
   ]
  },
  {
   "cell_type": "markdown",
   "id": "ba1c5b7f",
   "metadata": {},
   "source": [
    "#### Comprobamos nuevamente y vemos que las filas duplicadas se han eliminado:"
   ]
  },
  {
   "cell_type": "code",
   "execution_count": null,
   "id": "84361170",
   "metadata": {},
   "outputs": [],
   "source": [
    "filas_duplicadas = df1.duplicated().sum()\n",
    "filas_duplicadas"
   ]
  },
  {
   "cell_type": "markdown",
   "id": "e543d62f",
   "metadata": {},
   "source": [
    "#### Se encontraron valores = $0"
   ]
  },
  {
   "cell_type": "code",
   "execution_count": null,
   "id": "c5ef11f5",
   "metadata": {},
   "outputs": [],
   "source": [
    "ddf[ddf[\"utilidad_bruta\"] <= '$0']"
   ]
  },
  {
   "cell_type": "code",
   "execution_count": null,
   "id": "a258b00b",
   "metadata": {},
   "outputs": [],
   "source": [
    "ddf[ddf[\"costos\"] <= '$0']"
   ]
  },
  {
   "cell_type": "code",
   "execution_count": null,
   "id": "c80e15fc",
   "metadata": {},
   "outputs": [],
   "source": [
    "ddf[ddf[\"ventas\"] <= '$0']"
   ]
  },
  {
   "cell_type": "markdown",
   "id": "99ecdd3a",
   "metadata": {},
   "source": [
    "#### Solución: Borrar registros"
   ]
  },
  {
   "cell_type": "code",
   "execution_count": null,
   "id": "e7d4e2bc",
   "metadata": {},
   "outputs": [],
   "source": [
    "ddf.drop(ddf[ddf[\"ventas\"] <= '$0'].index, inplace=True)"
   ]
  },
  {
   "cell_type": "markdown",
   "id": "87ecab14",
   "metadata": {},
   "source": [
    "#### Se encontraron valores negativos en el campo \"cantidad\""
   ]
  },
  {
   "cell_type": "code",
   "execution_count": null,
   "id": "3979b21d",
   "metadata": {},
   "outputs": [],
   "source": [
    "ddf[ddf[\"cantidad\"] <= 0]"
   ]
  },
  {
   "cell_type": "markdown",
   "id": "7a5eb352",
   "metadata": {},
   "source": [
    "#### Solución: setearlos con su valor opuesto"
   ]
  },
  {
   "cell_type": "code",
   "execution_count": null,
   "id": "94ceaa45",
   "metadata": {},
   "outputs": [],
   "source": [
    "ddf[ddf[\"cantidad\"] <= 0] = -ddf"
   ]
  }
 ],
 "metadata": {
  "kernelspec": {
   "display_name": "Python 3 (ipykernel)",
   "language": "python",
   "name": "python3"
  },
  "language_info": {
   "codemirror_mode": {
    "name": "ipython",
    "version": 3
   },
   "file_extension": ".py",
   "mimetype": "text/x-python",
   "name": "python",
   "nbconvert_exporter": "python",
   "pygments_lexer": "ipython3",
   "version": "3.8.10"
  }
 },
 "nbformat": 4,
 "nbformat_minor": 5
}
