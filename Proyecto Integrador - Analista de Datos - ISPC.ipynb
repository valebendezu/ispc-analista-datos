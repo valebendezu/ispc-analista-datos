{
 "cells": [
  {
   "cell_type": "markdown",
   "id": "e4783e10-f3c8-44fc-8002-b920e84fc22c",
   "metadata": {},
   "source": [
    "# Proyecto integrador para el Módulo de analista de Datos - ISPC\n",
    "### Grupo: *DataBring*\n",
    "#### N° Grupo: *5*\n",
    "#### Integrantes:\n",
    "- Bendezu, Ana Valentina\n",
    "- Blasiche, Andrés\n",
    "- Cabrera,Marcos Rodrigo\n",
    "- Palomeque, Dalila Macarena\n",
    "- Palomeque, Jonatan Manuel\n",
    "- Tejeda, Romina Soledad\n",
    "\n",
    "#### Módulo: Analista de datos (Estádistica y Exploración de datos, Ciencia de Datos y Procesamiento de Datos)\n",
    "#### Carrera: Tecnicatura Superior en Ciencia de datos e IA\n",
    "#### Institución: Instituto Superior Politécnico Córdoba (ISPC)\n",
    "#### Año: 2024"
   ]
  },
  {
   "cell_type": "markdown",
   "id": "ad517c7e-f6a6-499e-a9dd-0b8a7ba04d7e",
   "metadata": {},
   "source": [
    "## Descripción:\n"
   ]
  },
  {
   "cell_type": "markdown",
   "id": "c6647742-d6fc-4be3-8c5b-4b66f60e7d28",
   "metadata": {},
   "source": [
    "#### Importar Pandas:"
   ]
  },
  {
   "cell_type": "code",
   "execution_count": 1,
   "id": "312fb8ed-9510-4d4a-976c-1e3d2247a38b",
   "metadata": {},
   "outputs": [],
   "source": [
    "import pandas as pd"
   ]
  },
  {
   "cell_type": "markdown",
   "id": "b889c002-687a-4b16-9e18-610891fff57f",
   "metadata": {},
   "source": [
    "#### Cargar DataSet y crear el Dataframe:"
   ]
  },
  {
   "cell_type": "code",
   "execution_count": 2,
   "id": "a470f69a-20c6-47e9-bf87-b63e0c88fff8",
   "metadata": {},
   "outputs": [],
   "source": [
    "dataSet = pd.read_csv('ds_ventas.csv')\n",
    "\n",
    "dataframe = pd.DataFrame(dataSet)"
   ]
  },
  {
   "cell_type": "markdown",
   "id": "bf385cdf-df84-4e32-8b3b-06c7d433eefb",
   "metadata": {},
   "source": [
    "#### Imprimir los primeros  10 registros del dataframe:"
   ]
  },
  {
   "cell_type": "code",
   "execution_count": 3,
   "id": "2e384c57-5d29-47d0-9740-6f0c17f4a811",
   "metadata": {},
   "outputs": [
    {
     "name": "stdout",
     "output_type": "stream",
     "text": [
      "        pais   metodo_orden      tipo_comercio     linea tipo_producto  \\\n",
      "0  Argentina  Representante          Mayorista  Mascotas      Juguetes   \n",
      "1  Argentina           Mail      De proximidad  Mascotas      Juguetes   \n",
      "2  Argentina       Teléfono  Grandes Almacenes  Infantil       Calzado   \n",
      "3  Argentina        Website      Especializado    Hombre       Calzado   \n",
      "4  Argentina        Website      Especializado   Adultos    Vestimenta   \n",
      "5  Argentina        Website          Mayorista     Mujer        Lentes   \n",
      "6  Argentina       Teléfono      Especializado     Mujer    Vestimenta   \n",
      "7  Argentina  Representante       Hipermercado    Hombre        Lentes   \n",
      "8  Argentina  Representante  Grandes Almacenes  Mascotas      Juguetes   \n",
      "9  Argentina  Representante          Mayorista    Hombre       Calzado   \n",
      "\n",
      "                 producto   año cuatrimestre       ventas  cantidad  \\\n",
      "0        Anitibyx armatus  2019      C1 2019  $155.040,02  15.562,0   \n",
      "1      Sarcorhamphus papa  2019      C1 2019  $144.314,49   1.534,0   \n",
      "2     Oreamnos americanus  2019      C1 2019  $114.380,59   4.036,0   \n",
      "3      Zosterops pallidus  2019      C1 2019  $144.097,85     991,0   \n",
      "4          Dusicyon thous  2019      C1 2019  $110.570,62   4.679,0   \n",
      "5   Amphibolurus barbatus  2019      C1 2019  $155.013,07  12.260,0   \n",
      "6        Chordeiles minor  2019      C1 2019   $92.599,10   7.470,0   \n",
      "7  Eolophus roseicapillus  2019      C1 2019  $141.433,24  10.678,0   \n",
      "8   Tamandua tetradactyla  2019      C1 2019  $169.592,83  13.804,0   \n",
      "9      Zosterops pallidus  2019      C1 2019  $105.131,12   1.446,0   \n",
      "\n",
      "  utilidad_bruta_p utilidad_bruta       costos  \n",
      "0           41,19%     $63.864,63   $91.175,39  \n",
      "1           57,57%     $83.084,42   $61.230,07  \n",
      "2           57,42%     $65.680,44   $48.700,15  \n",
      "3           27,39%     $39.475,34  $104.622,51  \n",
      "4           68,42%     $75.654,42   $34.916,20  \n",
      "5           59,69%     $92.534,23   $62.478,84  \n",
      "6           39,60%     $36.673,25   $55.925,85  \n",
      "7           64,09%     $90.649,51   $50.783,73  \n",
      "8           70,20%    $119.061,15   $50.531,68  \n",
      "9           69,64%     $73.216,31   $31.914,81  \n"
     ]
    }
   ],
   "source": [
    "print(dataframe.head(10))"
   ]
  },
  {
   "cell_type": "markdown",
   "id": "ade37f35-5a1d-4898-8ec2-661166554fa9",
   "metadata": {},
   "source": [
    "#### Descripcion del DataSet:"
   ]
  },
  {
   "cell_type": "markdown",
   "id": "4e0e2df7-1d63-4184-a296-8ed93c1f842a",
   "metadata": {},
   "source": [
    "Cantidad de registros y columnas:"
   ]
  },
  {
   "cell_type": "code",
   "execution_count": 4,
   "id": "f37958c9-6025-4353-9616-455d9e90ce34",
   "metadata": {},
   "outputs": [],
   "source": [
    "cant_filas, cant_columnas = dataframe.shape"
   ]
  },
  {
   "cell_type": "code",
   "execution_count": 5,
   "id": "46313ae4-7c6c-49c9-95c9-63dab665ef90",
   "metadata": {},
   "outputs": [
    {
     "name": "stdout",
     "output_type": "stream",
     "text": [
      "Cantidad de registros: 12000. Cantidad de columnas: 13\n"
     ]
    }
   ],
   "source": [
    "print(f\"Cantidad de registros: {cant_filas}. Cantidad de columnas: {cant_columnas}\")"
   ]
  },
  {
   "cell_type": "markdown",
   "id": "28f2c8fb-4bbe-4f35-9357-494fabc2156b",
   "metadata": {},
   "source": [
    "Tipos de Datos:"
   ]
  },
  {
   "cell_type": "code",
   "execution_count": 6,
   "id": "d0729719-05cc-4c86-b0c0-38e028d2bd72",
   "metadata": {},
   "outputs": [
    {
     "name": "stdout",
     "output_type": "stream",
     "text": [
      "pais                object\n",
      "metodo_orden        object\n",
      "tipo_comercio       object\n",
      "linea               object\n",
      "tipo_producto       object\n",
      "producto            object\n",
      "año                  int64\n",
      "cuatrimestre        object\n",
      "ventas              object\n",
      "cantidad            object\n",
      "utilidad_bruta_p    object\n",
      "utilidad_bruta      object\n",
      "costos              object\n",
      "dtype: object\n"
     ]
    }
   ],
   "source": [
    "tipos_datos = dataframe.dtypes\n",
    "print(tipos_datos)"
   ]
  },
  {
   "cell_type": "markdown",
   "id": "96a0784c-34e8-40ec-b3df-f1fe701bc6c6",
   "metadata": {},
   "source": [
    "##### Cambiar columnas NUMERICAS (ventas, cantidad, utilidad_bruta y costos y utilidad_bruta_p ) a tipo flotante:\n",
    "- Un registro de esta columna, originalmente tiene la siguiente sintaxis: \"$155.040,02\" y necesito que queden de la siguiente forma: \"155040.02\" , para poder obtener las medidas de tendencias centrales (media, mediana).\n",
    "  \n",
    "- Para hacerlo, primero debo eliminar los signos \"$\", las \",\" y finalmente reemplazar los \".\" por \",\" Ya que sino, no puedo cambiar el tipo de dato."
   ]
  },
  {
   "cell_type": "markdown",
   "id": "3b394869-af65-408c-9ee3-648a5999a45f",
   "metadata": {},
   "source": [
    "Reemplazar los signos \"$\" de las columnas: ventas, , 'utilidad_bruta', 'costos'"
   ]
  },
  {
   "cell_type": "code",
   "execution_count": 7,
   "id": "5cbf214d-5b45-444e-8a4d-5262d24a0593",
   "metadata": {},
   "outputs": [],
   "source": [
    "dataframe['ventas'] = dataframe['ventas'].str.replace('$', '')\n",
    "dataframe['utilidad_bruta'] = dataframe['utilidad_bruta'].str.replace('$', '')\n",
    "dataframe['costos'] = dataframe['costos'].str.replace('$', '')"
   ]
  },
  {
   "cell_type": "markdown",
   "id": "e201c7f4-025b-408f-b87d-5a4e6b8f3c51",
   "metadata": {},
   "source": [
    "Reemplazar los signos \".\" de las columnas:ventas, , 'utilidad_bruta', 'costos' y 'cantidad'"
   ]
  },
  {
   "cell_type": "code",
   "execution_count": 8,
   "id": "181c9f19-203a-43f5-a287-dab11085e126",
   "metadata": {},
   "outputs": [],
   "source": [
    "dataframe['ventas'] = dataframe['ventas'].str.replace('.', '')\n",
    "dataframe['utilidad_bruta'] = dataframe['utilidad_bruta'].str.replace('.', '')\n",
    "dataframe['costos'] = dataframe['costos'].str.replace('.', '')\n",
    "dataframe['cantidad'] = dataframe['cantidad'].str.replace('.', '')"
   ]
  },
  {
   "cell_type": "markdown",
   "id": "60cc3d31-f32c-4e23-a402-508c59432ccb",
   "metadata": {},
   "source": [
    "Reemplazar los signos \",\" por \".\" de las columnas:ventas, , 'utilidad_bruta', 'costos' y 'cantidad'"
   ]
  },
  {
   "cell_type": "code",
   "execution_count": 9,
   "id": "3fa29793-598c-4a18-bec7-8f8c066ae01f",
   "metadata": {},
   "outputs": [],
   "source": [
    "dataframe['ventas'] = dataframe['ventas'].str.replace(',', '.')\n",
    "dataframe['utilidad_bruta'] = dataframe['utilidad_bruta'].str.replace(',', '.')\n",
    "dataframe['costos'] = dataframe['costos'].str.replace(',', '.')\n",
    "dataframe['cantidad'] = dataframe['cantidad'].str.replace(',', '.')"
   ]
  },
  {
   "cell_type": "markdown",
   "id": "385b5fb2-63e5-465b-9180-e17fdefa75d6",
   "metadata": {},
   "source": [
    "Reemplazar los signos \"%\" por \"\" y \".\" por \",\" de la columna \"utilidad_bruta_p\""
   ]
  },
  {
   "cell_type": "code",
   "execution_count": 10,
   "id": "dad695c6-021f-4b26-8588-8572777e1bde",
   "metadata": {},
   "outputs": [],
   "source": [
    "dataframe['utilidad_bruta_p'] = dataframe['utilidad_bruta_p'].str.replace('%','')\n",
    "dataframe['utilidad_bruta_p'] = dataframe['utilidad_bruta_p'].str.replace(',','.')"
   ]
  },
  {
   "cell_type": "markdown",
   "id": "793500d4-899b-4083-89fb-a4929fce54c7",
   "metadata": {},
   "source": [
    "Reemplazar '.00'  y '.0' por '' en la columna 'cantidad' para poder pasarla a int"
   ]
  },
  {
   "cell_type": "code",
   "execution_count": 14,
   "id": "5fdbaa0b-a9d6-4a72-bf20-b8310751c51d",
   "metadata": {},
   "outputs": [],
   "source": [
    "dataframe['cantidad'] = dataframe['cantidad'].str.replace('.00', '')\n",
    "dataframe['cantidad'] = dataframe['cantidad'].str.replace('.0', '')"
   ]
  },
  {
   "cell_type": "markdown",
   "id": "967e3b34-d97b-40d6-bc02-e63389caebfb",
   "metadata": {},
   "source": [
    "Ahora si, puedo convertir cambiar el tipo de dato:"
   ]
  },
  {
   "cell_type": "code",
   "execution_count": 15,
   "id": "6c6eabf4-8107-45ef-8ed8-ab4a0ec7deea",
   "metadata": {},
   "outputs": [],
   "source": [
    "dataframe[['ventas', 'utilidad_bruta', 'costos', 'utilidad_bruta_p']] = dataframe[['ventas', 'utilidad_bruta', 'costos', 'utilidad_bruta_p']].astype(float)\n",
    "dataframe['cantidad'] = dataframe['cantidad'].astype(int)"
   ]
  },
  {
   "cell_type": "markdown",
   "id": "115032b0-2dba-4a3f-8e81-656cda701490",
   "metadata": {},
   "source": [
    "##### Cambiar columna 'cantidad' a tipo int64:"
   ]
  },
  {
   "cell_type": "code",
   "execution_count": 16,
   "id": "5716fe4d-8f14-4866-bd53-f191966efd47",
   "metadata": {},
   "outputs": [
    {
     "name": "stdout",
     "output_type": "stream",
     "text": [
      "pais                 object\n",
      "metodo_orden         object\n",
      "tipo_comercio        object\n",
      "linea                object\n",
      "tipo_producto        object\n",
      "producto             object\n",
      "año                   int64\n",
      "cuatrimestre         object\n",
      "ventas              float64\n",
      "cantidad              int32\n",
      "utilidad_bruta_p    float64\n",
      "utilidad_bruta      float64\n",
      "costos              float64\n",
      "dtype: object\n"
     ]
    }
   ],
   "source": [
    "tipos_datos = dataframe.dtypes\n",
    "print(tipos_datos)"
   ]
  },
  {
   "cell_type": "markdown",
   "id": "ed3daa48-a467-4b71-9c3d-4641fe187e3f",
   "metadata": {},
   "source": [
    "#### Eliminar filas con datos vacios:"
   ]
  },
  {
   "cell_type": "code",
   "execution_count": 18,
   "id": "d1090bd4-5e34-4fef-bc0d-318197f1d105",
   "metadata": {},
   "outputs": [],
   "source": [
    "nuevo_df = dataframe.dropna()"
   ]
  },
  {
   "cell_type": "code",
   "execution_count": 19,
   "id": "9ccec9c2-a968-4d57-a8e9-734e748206d9",
   "metadata": {},
   "outputs": [],
   "source": [
    "ncant_filas, ncant_columnas = nuevo_df.shape\n"
   ]
  },
  {
   "cell_type": "code",
   "execution_count": 20,
   "id": "e3abb14f-e988-4377-b0dc-e7820a6073ea",
   "metadata": {},
   "outputs": [
    {
     "name": "stdout",
     "output_type": "stream",
     "text": [
      "Cantidad de registros: 12000. Cantidad de columnas: 13\n"
     ]
    }
   ],
   "source": [
    "print(f\"Cantidad de registros: {ncant_filas}. Cantidad de columnas: {ncant_columnas}\")"
   ]
  },
  {
   "cell_type": "markdown",
   "id": "285d6548-788d-45b6-b044-1d9eeaecaea4",
   "metadata": {},
   "source": [
    "#### Análisis de columnas:"
   ]
  },
  {
   "cell_type": "markdown",
   "id": "9e987b7a-3660-41ae-aa41-29fc4b564494",
   "metadata": {},
   "source": [
    "1- Columnas Numericas:"
   ]
  },
  {
   "cell_type": "markdown",
   "id": "e1c8fabd-4c0f-4d74-b3a9-ee96cf1c641c",
   "metadata": {},
   "source": [
    "Media:"
   ]
  },
  {
   "cell_type": "code",
   "execution_count": 24,
   "id": "44577692-2c95-41f4-8ab0-46f0cbbfa51b",
   "metadata": {},
   "outputs": [
    {
     "name": "stdout",
     "output_type": "stream",
     "text": [
      "La media de ventas es: $138002.3483308333, La media de la cantidad de productos es: 9003.64475, La media de utilidades brutas es: $68869.50151583334, La media de costos es: $69132.846815\n"
     ]
    }
   ],
   "source": [
    "# media de Ventas:\n",
    "media_ventas = nuevo_df['ventas'].mean()\n",
    "\n",
    "# media de Cantidad de productos:\n",
    "media_cant_productos = nuevo_df['cantidad'].mean()\n",
    "\n",
    "# media de Utilidad Bruta:\n",
    "media_utilidad_bruta = nuevo_df['utilidad_bruta'].mean()\n",
    "\n",
    "# media de costos:\n",
    "media_costos =  nuevo_df['costos'].mean()\n",
    "\n",
    "\n",
    "print(f\"La media de ventas es: ${media_ventas}, La media de la cantidad de productos es: {media_cant_productos}, La media de utilidades brutas es: ${media_utilidad_bruta}, La media de costos es: ${media_costos}\")"
   ]
  },
  {
   "cell_type": "markdown",
   "id": "1c17872a-ee56-48bd-b151-80d7508fd581",
   "metadata": {},
   "source": [
    "Mediana:"
   ]
  },
  {
   "cell_type": "code",
   "execution_count": 25,
   "id": "e77ea792-658b-41e9-a051-55dd52dd88d5",
   "metadata": {},
   "outputs": [
    {
     "name": "stdout",
     "output_type": "stream",
     "text": [
      "La mediana de ventas es: $137773.085, La mediana de la cantidad de productos es: 8992.5, La mediana de utilidades brutas es: $66373.345, La mediana de costos es: $66495.01999999999\n"
     ]
    }
   ],
   "source": [
    "# mediana de Ventas:\n",
    "mediana_ventas = nuevo_df['ventas'].median()\n",
    "\n",
    "# mediana de Cantidad de productos:\n",
    "mediana_cant_productos = nuevo_df['cantidad'].median()\n",
    "\n",
    "# mediana de Utilidad Bruta:\n",
    "mediana_utilidad_bruta = nuevo_df['utilidad_bruta'].median()\n",
    "\n",
    "# mediana de costos:\n",
    "mediana_costos =  nuevo_df['costos'].median()\n",
    "\n",
    "\n",
    "print(f\"La mediana de ventas es: ${mediana_ventas}, La mediana de la cantidad de productos es: {mediana_cant_productos}, La mediana de utilidades brutas es: ${mediana_utilidad_bruta}, La mediana de costos es: ${mediana_costos}\")"
   ]
  },
  {
   "cell_type": "markdown",
   "id": "552e8052-7d2e-4169-88b5-84d58a1943c3",
   "metadata": {},
   "source": [
    "Desviacion Estandar:"
   ]
  },
  {
   "cell_type": "markdown",
   "id": "d0f01b73-bee3-4fde-a23a-f79d687659f3",
   "metadata": {},
   "source": [
    "2- Columnas con Variables Categoricas:"
   ]
  },
  {
   "cell_type": "code",
   "execution_count": null,
   "id": "08517d1d-96c2-41a4-97a9-215342c0a075",
   "metadata": {},
   "outputs": [],
   "source": []
  }
 ],
 "metadata": {
  "kernelspec": {
   "display_name": "Python 3 (ipykernel)",
   "language": "python",
   "name": "python3"
  },
  "language_info": {
   "codemirror_mode": {
    "name": "ipython",
    "version": 3
   },
   "file_extension": ".py",
   "mimetype": "text/x-python",
   "name": "python",
   "nbconvert_exporter": "python",
   "pygments_lexer": "ipython3",
   "version": "3.11.7"
  }
 },
 "nbformat": 4,
 "nbformat_minor": 5
}
